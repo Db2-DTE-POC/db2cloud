{
 "cells": [
  {
   "cell_type": "markdown",
   "metadata": {},
   "source": [
    "# Db2 on Cloud Registration\n",
    "If you would like to try running the Db2 sample applications against a Db2 on Cloud database, then you will need to follow these steps to register for a Db2 on Cloud account."
   ]
  },
  {
   "cell_type": "markdown",
   "metadata": {},
   "source": [
    "## IBM Cloud Registration\n",
    "To get started you must have a userid and password on the IBM system. You may already have one based on previous product trails or downloads you may have registered for. To get access to the IBM cloud media, click on the following link: https://www.ibm.com/cloud/\n",
    "\n",
    "This will direct your browser to the main IBM Cloud page. **Note:** When you click on the above link it will open up another tab in the browser you are using.\n",
    "\n",
    "You should see a web page similar to the following (**Note:** Web pages have a tendency to change over time so these might be different than what you see.)"
   ]
  },
  {
   "cell_type": "markdown",
   "metadata": {},
   "source": [
    "![IBM Cloud Mainpage]( ./media/ibmcloud.jpg \"IBM Cloud Main Page\")"
   ]
  },
  {
   "cell_type": "markdown",
   "metadata": {},
   "source": [
    "On the left hand side (and on the top right corner) of the welcome screen you will see the **Sign Up** link. This same link is used if you already have a user id, so start by clicking on that link. You will be directed to the account sign up / login window.\n",
    "\n",
    "![Sign Up]( ./media/ibmcloudsignup.jpg \"IBM Cloud Sign up\")"
   ]
  },
  {
   "cell_type": "markdown",
   "metadata": {},
   "source": [
    "If you already have an account set up, click on the **Log in** link at the top. However, if you don't have an account, fill in the details on the right and Create a new account. The set up process should only take a few minutes. Once you do have an account, you will sign into the main IBM Cloud console. The screen may have various sections on it, but look for the menu item at the top that says **Cloud**. Once you click on the catalog you should see the following screen.\n",
    "\n",
    "![IBM Cloud Console]( ./media/ibmcloudconsole.jpg \"IBM Cloud Console\")"
   ]
  },
  {
   "cell_type": "markdown",
   "metadata": {},
   "source": [
    "On the left hand side of the catalog is a list of categories of services that are available.\n",
    "\n",
    "![Cloud Catalog]( ./media/ibmcloudcatalog.jpg \"IBM Cloud Catalog\")"
   ]
  },
  {
   "cell_type": "markdown",
   "metadata": {},
   "source": [
    "Selecting **Databases** will display the **Db2 on Cloud** plan.\n",
    "\n",
    "![Db2 on Cloud]( ./media/catalogdb2cloud.jpg \"Db2 on Cloud Offering\")"
   ]
  },
  {
   "cell_type": "markdown",
   "metadata": {},
   "source": [
    "When you select Db2 from the list, the following detailed description of the service will be displayed. \n",
    "\n",
    "![Db2 Service](./media/db2clouddesc.jpg \"Db2 Service description\")"
   ]
  },
  {
   "cell_type": "markdown",
   "metadata": {},
   "source": [
    "There are a number of fields that need to be filled in.\n",
    "\n",
    "* Region - What region the service should run in\n",
    "* Pricing Plan - Choose the plan that you want to use (Lite is highlighted) \n",
    "* Service Details (at the bottom of the web page)"
   ]
  },
  {
   "cell_type": "markdown",
   "metadata": {},
   "source": [
    "### Region\n",
    "The **Region** field is particulary important because it will determine the type of performance that you will get from the database. The closer the region is to your location, the less network latency there is. The current regions that are available are shown in the image below.\n",
    "\n",
    "![Regions](./media/regionsdetails.jpg \"Region Details\")\n",
    "\n",
    "Once you have determined the region you want to run in, select the type of plan that you want to use."
   ]
  },
  {
   "cell_type": "markdown",
   "metadata": {},
   "source": [
    "### Plan\n",
    "Since we are only using the Db2 on Cloud plan for demonstration purposes, select the **Lite** plan.\n",
    "\n",
    "![Db2 Plan](./media/db2liteplan.jpg \"Db2 Plan\")\n",
    "\n",
    "This plan is restricted to:\n",
    "\n",
    "* 200 MB of user data\n",
    "* 5 simultaneous users\n",
    "* 30 days of service (which can be extended monthly)\n",
    "* Shared resources and only one schema\n",
    "\n",
    "The next step is to scroll to the bottom of the screen and update the resource information."
   ]
  },
  {
   "cell_type": "markdown",
   "metadata": {},
   "source": [
    "### Resources\n",
    "\n",
    "![Fields](./media/db2cloudresource.jpg \"Service Details\")"
   ]
  },
  {
   "cell_type": "markdown",
   "metadata": {},
   "source": [
    "In the resources section, you should provide a name for your service (a default value is provided), add any tags which identify the service that you are using (for searching) and finally an email address that can be used to reach you in the event there are issues with the service, or to notify you when the plan needs to be updated.\n",
    "\n",
    "When you are done updating the fields, you will need to confirm your options by clicking on the create button on the right hand side of the screen.\n",
    "![Create Db2](./media/db2create.jpg \"Create Db2\")\n",
    "\n",
    "This will create the Db2 service for you and then let you get started with the labs! You should see a screen similar to the following displayed when the service has been created.\n",
    "\n",
    "![Finish Db2](./media/db2createdone.jpg \"Create Db2\")\n",
    "\n",
    "There is a lot of helpful information on this screen on how to get started with Db2 on Cloud. The important section that you need to check out immediately is the Db2 Credentials."
   ]
  },
  {
   "cell_type": "markdown",
   "metadata": {},
   "source": [
    "## Db2 Credentials\n",
    "Once the access to a Db2 database has been confirmed, you can see the service in your dashboard. The dashboard is accessed by clicking on the &#x2630; symbol on the left side of the menu bar.\n",
    "\n",
    "![Dashboard](./media/db2alldashboard.jpg \"Db2 Dashboard\")\n",
    "\n",
    "In the top left-hand box you will see the **Services** keyword. Click on that to view all of your services.\n",
    "\n",
    "![Dashboard](./media/db2resourcelist.jpg \"Resources\")\n",
    "\n",
    "You will see that the Db2 service is there (called Db2-yk since we used the default name). "
   ]
  },
  {
   "cell_type": "markdown",
   "metadata": {},
   "source": [
    "When you click on the resource name **Db2-yk**, the system will display information about the Db2 connection.\n",
    "![Db2 Info](./media/db2info.jpg \"Db2 Information\")"
   ]
  },
  {
   "cell_type": "markdown",
   "metadata": {},
   "source": [
    "From this screen you can access the console of the database and start loading and querying data.\n",
    "\n",
    "![Db2 Console](./media/db2console.jpg \"Db2 Console\")"
   ]
  },
  {
   "cell_type": "markdown",
   "metadata": {},
   "source": [
    "In order to do the labs in this system, you must get the connection information. You can see some of the information by clicking on the **Connection Info (Connection Information)** section on the left side of the screen. This gives you some of the credentials needed to connect to the system.\n",
    "\n",
    "![Db2 Connection](./media/db2connection.jpg \"Db2 Connection\")"
   ]
  },
  {
   "cell_type": "markdown",
   "metadata": {},
   "source": [
    "What is missing from this screen is the password for your userid. **Note:** Your userid for connecting to Db2 is different than your IBM Cloud userid. There is a unique userid and schema created for you when you sign up for the Db2 on Cloud service. To get the password for your userid you must navigate back to the Service Details screen. When you clicked on the Service name, it would have opened up a separate browser tab for the Db2 on Cloud console. You should see the Service Details tab at the top of your browser:\n",
    "\n",
    "![Service Tab](./media/tabs.jpg \"Service Tab\")"
   ]
  },
  {
   "cell_type": "markdown",
   "metadata": {},
   "source": [
    "On the Service Details screen you will see a menu with the **Service Credentials** as an option.\n",
    "![Service Details](./media/menuservicedetails.jpg \"Service Details\")"
   ]
  },
  {
   "cell_type": "markdown",
   "metadata": {},
   "source": [
    "Selecting **Service Credentials** will display a list of authorized users for the Db2 on Cloud service.\n",
    "![Main Credentials](./media/mainservicecredentials.jpg \"Main Service Credentials\")"
   ]
  },
  {
   "cell_type": "markdown",
   "metadata": {},
   "source": [
    "If no services credentials are there, you will need to create one. To create a new service credential, click on the **New Credential** button. The following screen will be displayed.\n",
    "\n",
    "![Add Credential](./media/addcredential.jpg \"Add Credential\")"
   ]
  },
  {
   "cell_type": "markdown",
   "metadata": {},
   "source": [
    "Give the credential a meaningful name and then press **Add**. This will result in a new credential being added to the list.\n",
    "\n",
    "![New Credential](./media/newcredential.jpg \"New Credential\")"
   ]
  },
  {
   "cell_type": "markdown",
   "metadata": {},
   "source": [
    "Selecting **View credentials** will give you the necessary information to connect to Db2 on Cloud. The display will look similar to the following screen.\n",
    "\n",
    "![Final Credentials](./media/finalcredentials.jpg \"Final Credentials\")"
   ]
  },
  {
   "cell_type": "markdown",
   "metadata": {},
   "source": [
    "For connecting to Db2 on Cloud you will need a copy of these credentials, so click on the copy icon next to the credential information. This will copy all of the information found in the JSON document above and it will be used to establish a connection with Db2 without you having to remember all of the information on this screen.\n",
    "\n",
    "At this point you now have all of the information you need to get started running the labs."
   ]
  },
  {
   "cell_type": "markdown",
   "metadata": {},
   "source": [
    "### Skytap Considerations\n",
    "The JSON document that was copied in the previous step needs to be placed into the Db2 Connections notebook. If you copied the information to the clipboard **outside of the Skytap image** then the cut and paste operation into a Skytap image requires an intermediate step. If you have copied something to your computers clipboard, you must first place it into the Skytap clipboard. At the top of the browser that is running your Skytap image, you will see the Skytap toolbar:\n",
    "\n",
    "![Skytap]( ./media/skytap-toolbar.jpg \"Skytap Toolbar\")\n",
    "\n",
    "Clicking on the clipboard icon will display the input area for anything you want to paste into the virtual machine.\n",
    "\n",
    "![Clipboard]( ./media/skytap-clipboard.jpg \"Skytap Clipboard\")\n",
    "\n",
    "Once you have copied your credentials into this box it will display a `Success` message and then you can then paste the information into the appropriate cell."
   ]
  },
  {
   "cell_type": "markdown",
   "metadata": {},
   "source": [
    "#### Credits: IBM 2019, George Baklarz [baklarz@ca.ibm.com]"
   ]
  }
 ],
 "metadata": {
  "kernelspec": {
   "display_name": "Python 3",
   "language": "python",
   "name": "python3"
  },
  "language_info": {
   "codemirror_mode": {
    "name": "ipython",
    "version": 3
   },
   "file_extension": ".py",
   "mimetype": "text/x-python",
   "name": "python",
   "nbconvert_exporter": "python",
   "pygments_lexer": "ipython3",
   "version": "3.7.4"
  }
 },
 "nbformat": 4,
 "nbformat_minor": 2
}
